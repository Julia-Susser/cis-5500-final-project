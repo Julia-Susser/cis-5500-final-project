{
 "cells": [
  {
   "cell_type": "code",
   "execution_count": 19,
   "metadata": {},
   "outputs": [],
   "source": [
    "import pandas as pd\n",
    "import geopandas as gpd\n",
    "import matplotlib.pyplot as plt\n",
    "from matplotlib.colors import LinearSegmentedColormap\n",
    "import glob\n",
    "\n",
    "collissions_df = pd.read_csv(\"../../input/collisions.csv\")\n",
    "geometry_df = gpd.read_file(\"../../input/taxi_zones/taxi_zones.shp\")\n",
    "collissions_df[\"crash_date\"] = pd.to_datetime(collissions_df[\"crash_date\"])\n",
    "collissions_df = collissions_df[collissions_df['crash_date'].dt.year == 2024]\n"
   ]
  },
  {
   "cell_type": "code",
   "execution_count": 21,
   "metadata": {},
   "outputs": [
    {
     "ename": "",
     "evalue": "",
     "output_type": "error",
     "traceback": [
      "\u001b[1;31mThe Kernel crashed while executing code in the current cell or a previous cell. \n",
      "\u001b[1;31mPlease review the code in the cell(s) to identify a possible cause of the failure. \n",
      "\u001b[1;31mClick <a href='https://aka.ms/vscodeJupyterKernelCrash'>here</a> for more info. \n",
      "\u001b[1;31mView Jupyter <a href='command:jupyter.viewOutput'>log</a> for further details."
     ]
    }
   ],
   "source": [
    "parquet_files = glob.glob(\"../../input/yellow_taxi_data/*2024*.parquet\")\n",
    "all_dfs = []\n",
    "for file in parquet_files:\n",
    "    df = pd.read_parquet(file)\n",
    "    all_dfs.append(df)\n",
    "\n",
    "taxi_df = pd.concat(all_dfs, ignore_index=True)\n",
    "\n",
    "taxi_df['tpep_pickup_datetime'] = pd.to_datetime(taxi_df['tpep_pickup_datetime'], errors='coerce')"
   ]
  },
  {
   "cell_type": "code",
   "execution_count": null,
   "metadata": {},
   "outputs": [],
   "source": [
    "import pymysql\n",
    "\n",
    "# RDS Connection Parameters\n",
    "RDS_HOST = \"your-rds-endpoint.amazonaws.com\"\n",
    "RDS_PORT = 3306  # Default MySQL port\n",
    "RDS_USER = \"your-username\"\n",
    "RDS_PASSWORD = \"your-password\"\n",
    "RDS_DB = \"your-database-name\"\n",
    "\n",
    "try:\n",
    "    # Establish connection\n",
    "    conn = pymysql.connect(\n",
    "        host=RDS_HOST,\n",
    "        user=RDS_USER,\n",
    "        password=RDS_PASSWORD,\n",
    "        database=RDS_DB,\n",
    "        port=RDS_PORT\n",
    "    )\n",
    "    print(\"Connected to RDS instance successfully!\")\n",
    "\n",
    "    # Create a cursor object\n",
    "    cursor = conn.cursor()\n",
    "\n",
    "    # Execute a test query\n",
    "    cursor.execute(\"SELECT VERSION();\")\n",
    "    version = cursor.fetchone()\n",
    "    print(\"Database version:\", version)\n",
    "\n",
    "    # Close connection\n",
    "    cursor.close()\n",
    "    conn.close()\n",
    "    print(\"Connection closed.\")\n",
    "\n",
    "except Exception as e:\n",
    "    print(\"Error connecting to RDS:\", e)\n"
   ]
  }
 ],
 "metadata": {
  "kernelspec": {
   "display_name": "Python 3",
   "language": "python",
   "name": "python3"
  },
  "language_info": {
   "codemirror_mode": {
    "name": "ipython",
    "version": 3
   },
   "file_extension": ".py",
   "mimetype": "text/x-python",
   "name": "python",
   "nbconvert_exporter": "python",
   "pygments_lexer": "ipython3",
   "version": "3.10.12"
  }
 },
 "nbformat": 4,
 "nbformat_minor": 2
}
